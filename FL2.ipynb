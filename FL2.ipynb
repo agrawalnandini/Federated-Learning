{
 "cells": [
  {
   "cell_type": "code",
   "execution_count": null,
   "metadata": {
    "scrolled": true
   },
   "outputs": [],
   "source": [
    "pip install syft"
   ]
  },
  {
   "cell_type": "code",
   "execution_count": null,
   "metadata": {},
   "outputs": [],
   "source": [
    "pip install seaborn"
   ]
  },
  {
   "cell_type": "code",
   "execution_count": null,
   "metadata": {},
   "outputs": [],
   "source": [
    "pip install sklearn"
   ]
  },
  {
   "cell_type": "code",
   "execution_count": null,
   "metadata": {},
   "outputs": [],
   "source": [
    "pip install matplotlib\n",
    "#pip install --upgrade tensorflow"
   ]
  },
  {
   "cell_type": "code",
   "execution_count": null,
   "metadata": {},
   "outputs": [],
   "source": [
    "pip install jupyter-tensorboard"
   ]
  },
  {
   "cell_type": "code",
   "execution_count": 2,
   "metadata": {},
   "outputs": [],
   "source": [
    "import torch\n",
    "import torch.nn as nn\n",
    "import torch.nn.functional as F\n",
    "import torch.optim as optim\n",
    "from torchvision import datasets, transforms\n",
    "import syft as sy\n",
    "from syft.frameworks.torch.fl import utils\n",
    "import matplotlib.pyplot as plt \n",
    "from collections import Counter \n",
    "#from torch.utils.tensorboard import SummaryWriter"
   ]
  },
  {
   "cell_type": "code",
   "execution_count": null,
   "metadata": {},
   "outputs": [],
   "source": [
    "#import wandb\n",
    "#wandb.init()"
   ]
  },
  {
   "cell_type": "code",
   "execution_count": 4,
   "metadata": {},
   "outputs": [
    {
     "data": {
      "text/plain": [
       "<torch._C.Generator at 0x116d393b0>"
      ]
     },
     "execution_count": 4,
     "metadata": {},
     "output_type": "execute_result"
    }
   ],
   "source": [
    "class Parser:\n",
    "    def __init__(self):\n",
    "        self.epochs = 5\n",
    "        self.lr = 0.001\n",
    "        self.test_batch_size = 1000\n",
    "        self.batch_size = 64\n",
    "        self.log_interval = 10\n",
    "        self.seed = 1\n",
    "    \n",
    "args = Parser()\n",
    "torch.manual_seed(args.seed)"
   ]
  },
  {
   "cell_type": "code",
   "execution_count": 34,
   "metadata": {},
   "outputs": [
    {
     "name": "stderr",
     "output_type": "stream",
     "text": [
      "WARNING:root:Torch was already hooked... skipping hooking process\n"
     ]
    }
   ],
   "source": [
    "hook = sy.TorchHook(torch)  \n",
    "bob = sy.VirtualWorker(hook, id=\"bob\")  \n",
    "alice = sy.VirtualWorker(hook, id=\"alice\")  \n",
    "nodes=[bob,alice]"
   ]
  },
  {
   "cell_type": "code",
   "execution_count": 5,
   "metadata": {},
   "outputs": [],
   "source": [
    "train_loader = torch.utils.data.DataLoader(datasets.FashionMNIST('data2', train=True, download=True,\n",
    "                   transform=transforms.Compose([transforms.ToTensor(),transforms.Normalize((0.1307,), (0.3081,))]))\n",
    "    #.federate((bob, alice)), # <-- NEW: we distribute the dataset across all the workers, it's now a FederatedDataset\n",
    "    ,batch_size=args.batch_size, shuffle=True)\n",
    "\n",
    "test_loader = torch.utils.data.DataLoader(\n",
    "    datasets.FashionMNIST('data2', train=False, transform=transforms.Compose([\n",
    "                       transforms.ToTensor(),\n",
    "                       transforms.Normalize((0.1307,), (0.3081,))\n",
    "                   ])),\n",
    "    batch_size=args.test_batch_size, shuffle=True)\n",
    "\n",
    "#sy.FederatedDataLoader- when we were using federate \n",
    "#note one (x,y) is : number of x's in one are based on batch size - same way for y"
   ]
  },
  {
   "cell_type": "code",
   "execution_count": 46,
   "metadata": {},
   "outputs": [
    {
     "data": {
      "text/plain": [
       "938"
      ]
     },
     "execution_count": 46,
     "metadata": {},
     "output_type": "execute_result"
    }
   ],
   "source": [
    "len(train_loader.dataset)\n",
    "len(train_loader)"
   ]
  },
  {
   "cell_type": "code",
   "execution_count": 47,
   "metadata": {},
   "outputs": [],
   "source": [
    "remote_dataset = (list(), list())\n",
    "for batch_idx, (data,target) in enumerate(train_loader):\n",
    "    data = data.send(nodes[batch_idx % len(nodes)])# can send using .federate directly and using FederatedDataLoader but that was giving issues so sending manually\n",
    "    target = target.send(nodes[batch_idx % len(nodes)])\n",
    "    remote_dataset[batch_idx % len(nodes)].append((data, target))"
   ]
  },
  {
   "cell_type": "code",
   "execution_count": 38,
   "metadata": {},
   "outputs": [
    {
     "data": {
      "text/plain": [
       "469"
      ]
     },
     "execution_count": 38,
     "metadata": {},
     "output_type": "execute_result"
    }
   ],
   "source": [
    "len(remote_dataset[0]) #numbr of batches with Bob and same for Alice\n",
    "#len(remote_dataset[0][468])\n",
    "#x,y=remote_dataset[0][0]\n",
    "#x"
   ]
  },
  {
   "cell_type": "code",
   "execution_count": 55,
   "metadata": {},
   "outputs": [],
   "source": [
    "class Net(nn.Module):\n",
    "    def __init__(self):\n",
    "        super(Net, self).__init__()\n",
    "        self.conv1 = nn.Conv2d(1, 32, 3, 1)\n",
    "        self.conv2 = nn.Conv2d(32, 64, 3, 1)\n",
    "        self.dropout1 = nn.Dropout2d(0.25)\n",
    "        self.dropout2 = nn.Dropout2d(0.5)\n",
    "        self.fc1 = nn.Linear(9216, 128)\n",
    "        self.fc2 = nn.Linear(128, 10)\n",
    "\n",
    "    def forward(self, x):\n",
    "        x = self.conv1(x)\n",
    "        x = F.relu(x)\n",
    "        x = self.conv2(x)\n",
    "        x = F.relu(x)\n",
    "        x = F.max_pool2d(x, 2)\n",
    "        x = self.dropout1(x)\n",
    "        x = torch.flatten(x, 1)\n",
    "        x = self.fc1(x)\n",
    "        x = F.relu(x)\n",
    "        x = self.dropout2(x)\n",
    "        x = self.fc2(x)\n",
    "        output = F.log_softmax(x, dim=1)\n",
    "        return output"
   ]
  },
  {
   "cell_type": "code",
   "execution_count": 56,
   "metadata": {},
   "outputs": [],
   "source": [
    "bobs_model = Net()\n",
    "alices_model = Net()\n",
    "bobs_optimizer = optim.Adam(bobs_model.parameters(), lr=args.lr)\n",
    "alices_optimizer = optim.Adam(alices_model.parameters(), lr=args.lr)\n",
    "\n",
    "models = [bobs_model, alices_model]\n",
    "optimizers = [bobs_optimizer, alices_optimizer]"
   ]
  },
  {
   "cell_type": "code",
   "execution_count": 57,
   "metadata": {},
   "outputs": [
    {
     "name": "stdout",
     "output_type": "stream",
     "text": [
      "Net(\n",
      "  (conv1): Conv2d(1, 32, kernel_size=(3, 3), stride=(1, 1))\n",
      "  (conv2): Conv2d(32, 64, kernel_size=(3, 3), stride=(1, 1))\n",
      "  (dropout1): Dropout2d(p=0.25, inplace=False)\n",
      "  (dropout2): Dropout2d(p=0.5, inplace=False)\n",
      "  (fc1): Linear(in_features=9216, out_features=128, bias=True)\n",
      "  (fc2): Linear(in_features=128, out_features=10, bias=True)\n",
      ")\n"
     ]
    }
   ],
   "source": [
    "global_model = Net()\n",
    "print(global_model)\n",
    "\n",
    "\n",
    "#weights=global_model.fc2.weight.data  #gives last layer weights before softmax output\n",
    "#print(weights)\n",
    "#plt.plot(weights)\n",
    "#plt.show()\n",
    "#w = list(global_model.parameters()) #gives all parameters(weights of all)\n",
    "#print(w)"
   ]
  },
  {
   "cell_type": "code",
   "execution_count": 58,
   "metadata": {},
   "outputs": [],
   "source": [
    "from statistics import mean\n",
    "import copy\n",
    "\n",
    "def plot_weights(model):\n",
    "    model_weights=model.fc2.weight\n",
    "    #print(model_weights.shape)\n",
    "    #print(model_weights)\n",
    "    list_weights=model_weights.tolist()\n",
    "    weights = [item for sublist in list_weights for item in sublist]#flattened list\n",
    "    #print(max(weights))\n",
    "    #print(min(weights))\n",
    "    \n",
    "    avg=mean(weights)\n",
    "    print('Average is : ',avg)\n",
    "    a=0.05\n",
    "    for i in range(len(weights)):\n",
    "        if weights[i]<avg-a or weights[i]>avg+a:\n",
    "            weights[i]=0\n",
    "    plt.hist(weights,15)\n",
    "    #plt.show()\n",
    "    \n",
    "    #to update model's weights\n",
    "    for i in range(len(list_weights)):\n",
    "        for j in range(len(list_weights[0])):\n",
    "            if list_weights[i][j]<avg-a or list_weights[i][j]>avg+a:\n",
    "                list_weights[i][j]=0\n",
    "                \n",
    "                \n",
    "    updated_weights=torch.tensor(list_weights)\n",
    "    updated_weights.requires_grad=True\n",
    "    model.fc2.weight=torch.nn.Parameter(updated_weights)\n",
    "        \n",
    "def update(d, model, optimizer):\n",
    "    optimizer = optim.Adam(model.parameters())\n",
    "    for btch in d:\n",
    "        model.send(btch[0].location)#sending to correct location\n",
    "        optimizer.zero_grad()\n",
    "        prediction = model(btch[0])\n",
    "        loss = F.nll_loss(prediction, btch[1])\n",
    "        loss.backward()\n",
    "        optimizer.step()\n",
    "        model.get()\n",
    "    \n",
    "    plot_weights(model)\n",
    "    return model\n",
    "\n",
    "def train(count):\n",
    "    data=(list(), list())\n",
    "    temp=[]\n",
    "    for data_index in range(count,20+count): #training with 20 batches per epoch\n",
    "        for worker_index in range(len(nodes)):\n",
    "            x, y = remote_dataset[worker_index][data_index]# 2 datasets (one w bob and other w alice)\n",
    "            temp.append(x)\n",
    "            temp.append(y)\n",
    "            data[worker_index].append(temp)\n",
    "            temp=[]\n",
    "            \n",
    "    models[0] = update(data[0], models[0], optimizers[0])#updating bob's model by training on 20 batches together\n",
    "    models[1] = update(data[1], models[1], optimizers[1])#updating alice's model by training on 20 batches together\n",
    "    \n",
    "    #print('Outside plot fn')\n",
    "    #print(models[0].fc2.weight)\n",
    "        \n",
    "    return utils.federated_avg({\n",
    "    \"bob\": models[0],\n",
    "    \"alice\": models[1]# securely aggregate both models and return global model after each epoch\n",
    "    })"
   ]
  },
  {
   "cell_type": "code",
   "execution_count": 59,
   "metadata": {},
   "outputs": [],
   "source": [
    "ytest=[]\n",
    "predicted=[]\n",
    "def test(federated_model):\n",
    "    federated_model.eval()\n",
    "    test_loss = 0\n",
    "    correct=0\n",
    "    \n",
    "    for x, y in test_loader:\n",
    "        output = federated_model(x)\n",
    "        test_loss += F.nll_loss(output, y, reduction='sum').item() # sum up batch loss\n",
    "        pred = output.argmax(1, keepdim=True) # get the index of the max log-probability \n",
    "        ytest.append((y.view_as(pred)).tolist())\n",
    "        predicted.append(pred.tolist())\n",
    "        #print('Len',len(y.view_as(pred)))\n",
    "        #print(y.view_as(pred))\n",
    "        #print('Len',len(pred))\n",
    "        #print(pred)\n",
    "        correct += pred.eq(y.view_as(pred)).sum().item()\n",
    "        #print(correct)\n",
    "        \n",
    "    test_loss /= len(test_loader.dataset)#this is total number of images in test data, whereas test_loader is z images grouped together depending on batch size,\n",
    "    #so if batch size is 10 then 10 x's and 10 corresponding y's will go together thus y vector is like that\n",
    "    print('\\nTest set: Average loss: {:.4f}, Accuracy: {}/{} ({:.0f}%)\\n'.format\n",
    "          (test_loss, correct, len(test_loader.dataset),100. * correct / len(test_loader.dataset)))\n",
    "    #print('Test set: Average loss: {:.4f}'.format(test_loss))\n",
    "\n",
    "        "
   ]
  },
  {
   "cell_type": "code",
   "execution_count": 60,
   "metadata": {},
   "outputs": [
    {
     "name": "stdout",
     "output_type": "stream",
     "text": [
      "Epoch Number 1\n",
      "Average is :  -0.00508414375563575\n",
      "Average is :  0.0005121472652263037\n",
      "Epoch Number 2\n",
      "Average is :  -0.004020579428487281\n",
      "Average is :  -0.002323671978456332\n",
      "Epoch Number 3\n",
      "Average is :  -0.005004720451279354\n",
      "Average is :  -0.0042725189549514654\n",
      "Epoch Number 4\n",
      "Average is :  -0.006184423237493774\n",
      "Average is :  -0.005466317636989336\n",
      "Epoch Number 5\n",
      "Average is :  -0.007036532284166697\n",
      "Average is :  -0.0065445389689133705\n"
     ]
    },
    {
     "data": {
      "image/png": "[encoded data removed]",
      "text/plain": [
       "<Figure size 432x288 with 1 Axes>"
      ]
     },
     "metadata": {
      "needs_background": "light"
     },
     "output_type": "display_data"
    }
   ],
   "source": [
    "#training process\n",
    "i=0\n",
    "for epoch in range(args.epochs):\n",
    "    print(f\"Epoch Number {epoch + 1}\")\n",
    "    federated_model = train(i)\n",
    "    global_model = federated_model\n",
    "    #test(federated_model)#checking the test-performance of an updated gloabl model after each epoch \n",
    "    i+=20\n"
   ]
  },
  {
   "cell_type": "code",
   "execution_count": 61,
   "metadata": {},
   "outputs": [
    {
     "name": "stdout",
     "output_type": "stream",
     "text": [
      "\n",
      "Test set: Average loss: 0.5798, Accuracy: 7841/10000 (78%)\n",
      "\n"
     ]
    }
   ],
   "source": [
    "#test\n",
    "test(global_model)"
   ]
  },
  {
   "cell_type": "code",
   "execution_count": 17,
   "metadata": {},
   "outputs": [],
   "source": [
    "Ytest = [item for sublist in ytest for item in sublist]\n",
    "predicted_y = [item for sublist in predicted for item in sublist]\n",
    "\n",
    "#Ytest and predicted_y was still a list of list(with one element)\n",
    "Ytest = [item for sublist in Ytest for item in sublist]\n",
    "predicted_y = [item for sublist in predicted_y for item in sublist]\n",
    "#print(len(Ytest))\n",
    "#print(Ytest[90:100])\n",
    "#print(predicted_y[90:100])"
   ]
  },
  {
   "cell_type": "code",
   "execution_count": 18,
   "metadata": {},
   "outputs": [
    {
     "data": {
      "image/png": "[encoded data removed]",
      "text/plain": [
       "<Figure size 720x576 with 2 Axes>"
      ]
     },
     "metadata": {
      "needs_background": "light"
     },
     "output_type": "display_data"
    }
   ],
   "source": [
    "import seaborn as sb\n",
    "from sklearn.metrics import confusion_matrix\n",
    "import numpy as np\n",
    "\n",
    "classes=[]\n",
    "for i in range(10):\n",
    "  classes.append(i)\n",
    "\n",
    "conf=confusion_matrix(Ytest,predicted_y,classes,normalize='true')\n",
    "\n",
    "f = plt.figure(figsize=(10,8))\n",
    "ax=f.add_subplot(1,1,1)\n",
    "sb.heatmap(conf,annot=False, fmt=\".2f\", linewidths=.5,cmap='OrRd',square=True,ax=ax)\n",
    "tick_marks = np.arange(len(classes))\n",
    "plt.xticks(tick_marks, classes,rotation=1)\n",
    "plt.yticks(tick_marks, classes)\n",
    "\n",
    "ax.set_xlabel('Predicted label')\n",
    "ax.set_ylabel('Actual label')\n",
    "ax.set_title('Confusion Matrix ', size = 18);\n",
    "plt.tight_layout()\n",
    "plt.show()"
   ]
  }
 ],
 "metadata": {
  "kernelspec": {
   "display_name": "Python 3",
   "language": "python",
   "name": "python3"
  },
  "language_info": {
   "codemirror_mode": {
    "name": "ipython",
    "version": 3
   },
   "file_extension": ".py",
   "mimetype": "text/x-python",
   "name": "python",
   "nbconvert_exporter": "python",
   "pygments_lexer": "ipython3",
   "version": "3.7.4"
  }
 },
 "nbformat": 4,
 "nbformat_minor": 4
}
