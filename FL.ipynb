{
 "cells": [
  {
   "cell_type": "code",
   "execution_count": null,
   "metadata": {
    "scrolled": true
   },
   "outputs": [],
   "source": [
    "pip install syft"
   ]
  },
  {
   "cell_type": "code",
   "execution_count": 73,
   "metadata": {},
   "outputs": [
    {
     "name": "stdout",
     "output_type": "stream",
     "text": [
      "Collecting seaborn\n",
      "  Downloading seaborn-0.10.0-py3-none-any.whl (215 kB)\n",
      "\u001b[K     |████████████████████████████████| 215 kB 5.0 MB/s eta 0:00:01\n",
      "\u001b[?25hCollecting pandas>=0.22.0\n",
      "  Downloading pandas-1.0.3-cp37-cp37m-macosx_10_9_x86_64.whl (10.0 MB)\n",
      "\u001b[K     |████████████████████████████████| 10.0 MB 6.9 MB/s eta 0:00:01\n",
      "\u001b[?25hRequirement already satisfied: matplotlib>=2.1.2 in ./virtual-env/lib/python3.7/site-packages (from seaborn) (3.2.1)\n",
      "Requirement already satisfied: numpy>=1.13.3 in ./virtual-env/lib/python3.7/site-packages (from seaborn) (1.18.2)\n",
      "Requirement already satisfied: scipy>=1.0.1 in ./virtual-env/lib/python3.7/site-packages (from seaborn) (1.4.1)\n",
      "Requirement already satisfied: python-dateutil>=2.6.1 in ./virtual-env/lib/python3.7/site-packages (from pandas>=0.22.0->seaborn) (2.8.1)\n",
      "Collecting pytz>=2017.2\n",
      "  Downloading pytz-2019.3-py2.py3-none-any.whl (509 kB)\n",
      "\u001b[K     |████████████████████████████████| 509 kB 22.1 MB/s eta 0:00:01\n",
      "\u001b[?25hRequirement already satisfied: pyparsing!=2.0.4,!=2.1.2,!=2.1.6,>=2.0.1 in ./virtual-env/lib/python3.7/site-packages (from matplotlib>=2.1.2->seaborn) (2.4.6)\n",
      "Requirement already satisfied: cycler>=0.10 in ./virtual-env/lib/python3.7/site-packages (from matplotlib>=2.1.2->seaborn) (0.10.0)\n",
      "Requirement already satisfied: kiwisolver>=1.0.1 in ./virtual-env/lib/python3.7/site-packages (from matplotlib>=2.1.2->seaborn) (1.1.0)\n",
      "Requirement already satisfied: six>=1.5 in ./virtual-env/lib/python3.7/site-packages (from python-dateutil>=2.6.1->pandas>=0.22.0->seaborn) (1.14.0)\n",
      "Requirement already satisfied: setuptools in ./virtual-env/lib/python3.7/site-packages (from kiwisolver>=1.0.1->matplotlib>=2.1.2->seaborn) (40.8.0)\n",
      "Installing collected packages: pytz, pandas, seaborn\n",
      "Successfully installed pandas-1.0.3 pytz-2019.3 seaborn-0.10.0\n",
      "Note: you may need to restart the kernel to use updated packages.\n"
     ]
    }
   ],
   "source": [
    "pip install seaborn"
   ]
  },
  {
   "cell_type": "code",
   "execution_count": 75,
   "metadata": {},
   "outputs": [
    {
     "name": "stdout",
     "output_type": "stream",
     "text": [
      "Collecting sklearn\n",
      "  Using cached sklearn-0.0.tar.gz (1.1 kB)\n",
      "Collecting scikit-learn\n",
      "  Downloading scikit_learn-0.22.2.post1-cp37-cp37m-macosx_10_9_x86_64.whl (7.1 MB)\n",
      "\u001b[K     |████████████████████████████████| 7.1 MB 1.4 MB/s eta 0:00:01     |████▎                           | 942 kB 1.4 MB/s eta 0:00:05\n",
      "\u001b[?25hRequirement already satisfied: scipy>=0.17.0 in ./virtual-env/lib/python3.7/site-packages (from scikit-learn->sklearn) (1.4.1)\n",
      "Collecting joblib>=0.11\n",
      "  Downloading joblib-0.14.1-py2.py3-none-any.whl (294 kB)\n",
      "\u001b[K     |████████████████████████████████| 294 kB 21.2 MB/s eta 0:00:01\n",
      "\u001b[?25hRequirement already satisfied: numpy>=1.11.0 in ./virtual-env/lib/python3.7/site-packages (from scikit-learn->sklearn) (1.18.2)\n",
      "Installing collected packages: joblib, scikit-learn, sklearn\n",
      "    Running setup.py install for sklearn ... \u001b[?25ldone\n",
      "\u001b[?25hSuccessfully installed joblib-0.14.1 scikit-learn-0.22.2.post1 sklearn-0.0\n",
      "Note: you may need to restart the kernel to use updated packages.\n"
     ]
    }
   ],
   "source": [
    "pip install sklearn"
   ]
  },
  {
   "cell_type": "code",
   "execution_count": null,
   "metadata": {},
   "outputs": [],
   "source": [
    "pip install matplotlib\n",
    "#pip install --upgrade tensorflow"
   ]
  },
  {
   "cell_type": "code",
   "execution_count": null,
   "metadata": {},
   "outputs": [],
   "source": [
    "pip install jupyter-tensorboard"
   ]
  },
  {
   "cell_type": "code",
   "execution_count": 161,
   "metadata": {},
   "outputs": [],
   "source": [
    "import torch\n",
    "import torch.nn as nn\n",
    "import torch.nn.functional as F\n",
    "import torch.optim as optim\n",
    "from torchvision import datasets, transforms\n",
    "import syft as sy\n",
    "from syft.frameworks.torch.fl import utils\n",
    "import matplotlib.pyplot as plt \n",
    "from collections import Counter \n",
    "#from torch.utils.tensorboard import SummaryWriter"
   ]
  },
  {
   "cell_type": "code",
   "execution_count": null,
   "metadata": {},
   "outputs": [],
   "source": [
    "#import wandb\n",
    "#wandb.init()"
   ]
  },
  {
   "cell_type": "code",
   "execution_count": 162,
   "metadata": {},
   "outputs": [
    {
     "data": {
      "text/plain": [
       "<torch._C.Generator at 0x11a0462f0>"
      ]
     },
     "execution_count": 162,
     "metadata": {},
     "output_type": "execute_result"
    }
   ],
   "source": [
    "class Parser:\n",
    "    def __init__(self):\n",
    "        self.epochs = 5\n",
    "        self.lr = 0.001\n",
    "        self.test_batch_size = 1000\n",
    "        self.batch_size = 64\n",
    "        self.log_interval = 10\n",
    "        self.seed = 1\n",
    "    \n",
    "args = Parser()\n",
    "torch.manual_seed(args.seed)"
   ]
  },
  {
   "cell_type": "code",
   "execution_count": 163,
   "metadata": {},
   "outputs": [
    {
     "name": "stderr",
     "output_type": "stream",
     "text": [
      "WARNING:root:Torch was already hooked... skipping hooking process\n"
     ]
    }
   ],
   "source": [
    "hook = sy.TorchHook(torch)  \n",
    "bob = sy.VirtualWorker(hook, id=\"bob\")  \n",
    "alice = sy.VirtualWorker(hook, id=\"alice\")  \n",
    "nodes=[bob,alice]"
   ]
  },
  {
   "cell_type": "code",
   "execution_count": 164,
   "metadata": {},
   "outputs": [],
   "source": [
    "train_loader = torch.utils.data.DataLoader(datasets.MNIST('../data', train=True, download=False,\n",
    "                   transform=transforms.Compose([transforms.ToTensor(),transforms.Normalize((0.1307,), (0.3081,))]))\n",
    "    #.federate((bob, alice)), # <-- NEW: we distribute the dataset across all the workers, it's now a FederatedDataset\n",
    "    ,batch_size=args.batch_size, shuffle=True)\n",
    "\n",
    "test_loader = torch.utils.data.DataLoader(\n",
    "    datasets.MNIST('../data', train=False, transform=transforms.Compose([\n",
    "                       transforms.ToTensor(),\n",
    "                       transforms.Normalize((0.1307,), (0.3081,))\n",
    "                   ])),\n",
    "    batch_size=args.test_batch_size, shuffle=True)\n",
    "\n",
    "#sy.FederatedDataLoader- when we were using federate \n",
    "#note one (x,y) is : number of x's in one are based on batch size - same way for y"
   ]
  },
  {
   "cell_type": "code",
   "execution_count": 165,
   "metadata": {},
   "outputs": [
    {
     "data": {
      "text/plain": [
       "938"
      ]
     },
     "execution_count": 165,
     "metadata": {},
     "output_type": "execute_result"
    }
   ],
   "source": [
    "len(train_loader.dataset)\n",
    "len(train_loader)"
   ]
  },
  {
   "cell_type": "code",
   "execution_count": 166,
   "metadata": {},
   "outputs": [],
   "source": [
    "remote_dataset = (list(), list())\n",
    "for batch_idx, (data,target) in enumerate(train_loader):\n",
    "    data = data.send(nodes[batch_idx % len(nodes)])# can send using .federate directly and using FederatedDataLoader but that was giving issues so sending manually\n",
    "    target = target.send(nodes[batch_idx % len(nodes)])\n",
    "    remote_dataset[batch_idx % len(nodes)].append((data, target))"
   ]
  },
  {
   "cell_type": "code",
   "execution_count": 167,
   "metadata": {},
   "outputs": [
    {
     "data": {
      "text/plain": [
       "469"
      ]
     },
     "execution_count": 167,
     "metadata": {},
     "output_type": "execute_result"
    }
   ],
   "source": [
    "len(remote_dataset[0]) #numbr of batches with Bob and same for Alice\n",
    "#len(remote_dataset[0][468])\n",
    "#x,y=remote_dataset[0][0]\n",
    "#x"
   ]
  },
  {
   "cell_type": "code",
   "execution_count": 168,
   "metadata": {},
   "outputs": [],
   "source": [
    "class Net(nn.Module):\n",
    "    def __init__(self):\n",
    "        super(Net, self).__init__()\n",
    "        self.conv1 = nn.Conv2d(1, 32, 3, 1)\n",
    "        self.conv2 = nn.Conv2d(32, 64, 3, 1)\n",
    "        self.dropout1 = nn.Dropout2d(0.25)\n",
    "        self.dropout2 = nn.Dropout2d(0.5)\n",
    "        self.fc1 = nn.Linear(9216, 128)\n",
    "        self.fc2 = nn.Linear(128, 10)\n",
    "\n",
    "    def forward(self, x):\n",
    "        x = self.conv1(x)\n",
    "        x = F.relu(x)\n",
    "        x = self.conv2(x)\n",
    "        x = F.relu(x)\n",
    "        x = F.max_pool2d(x, 2)\n",
    "        x = self.dropout1(x)\n",
    "        x = torch.flatten(x, 1)\n",
    "        x = self.fc1(x)\n",
    "        x = F.relu(x)\n",
    "        x = self.dropout2(x)\n",
    "        x = self.fc2(x)\n",
    "        output = F.log_softmax(x, dim=1)\n",
    "        return output"
   ]
  },
  {
   "cell_type": "code",
   "execution_count": 296,
   "metadata": {},
   "outputs": [],
   "source": [
    "bobs_model = Net()\n",
    "alices_model = Net()\n",
    "bobs_optimizer = optim.Adam(bobs_model.parameters(), lr=args.lr)\n",
    "alices_optimizer = optim.Adam(alices_model.parameters(), lr=args.lr)\n",
    "\n",
    "models = [bobs_model, alices_model]\n",
    "optimizers = [bobs_optimizer, alices_optimizer]"
   ]
  },
  {
   "cell_type": "code",
   "execution_count": 297,
   "metadata": {},
   "outputs": [
    {
     "name": "stdout",
     "output_type": "stream",
     "text": [
      "Net(\n",
      "  (conv1): Conv2d(1, 32, kernel_size=(3, 3), stride=(1, 1))\n",
      "  (conv2): Conv2d(32, 64, kernel_size=(3, 3), stride=(1, 1))\n",
      "  (dropout1): Dropout2d(p=0.25, inplace=False)\n",
      "  (dropout2): Dropout2d(p=0.5, inplace=False)\n",
      "  (fc1): Linear(in_features=9216, out_features=128, bias=True)\n",
      "  (fc2): Linear(in_features=128, out_features=10, bias=True)\n",
      ")\n"
     ]
    }
   ],
   "source": [
    "global_model = Net()\n",
    "print(global_model)\n",
    "\n",
    "\n",
    "#weights=global_model.fc2.weight.data  #gives last layer weights before softmax output\n",
    "#print(weights)\n",
    "#plt.plot(weights)\n",
    "#plt.show()\n",
    "#w = list(global_model.parameters()) #gives all parameters(weights of all)\n",
    "#print(w)"
   ]
  },
  {
   "cell_type": "code",
   "execution_count": 298,
   "metadata": {},
   "outputs": [],
   "source": [
    "from statistics import mean\n",
    "import copy\n",
    "\n",
    "def plot_weights(model):\n",
    "    model_weights=model.fc2.weight\n",
    "    #print(model_weights.shape)\n",
    "    print(model_weights)\n",
    "    list_weights=model_weights.tolist()\n",
    "    weights = [item for sublist in list_weights for item in sublist]#flattened list\n",
    "    avg=mean(weights)\n",
    "    print('Average is : ',avg)\n",
    "    a=0.05\n",
    "    for i in range(len(weights)):\n",
    "        if weights[i]<avg-a or weights[i]>avg+a:\n",
    "            weights[i]=0\n",
    "    plt.hist(weights,15)\n",
    "    #plt.show()\n",
    "    \n",
    "    #to update model's weights\n",
    "    for i in range(len(list_weights)):\n",
    "        for j in range(len(list_weights[0])):\n",
    "            if list_weights[i][j]<avg-a or list_weights[i][j]>avg+a:\n",
    "                list_weights[i][j]=0\n",
    "    \n",
    "\n",
    "    updated_weights=torch.tensor(list_weights)\n",
    "    updated_weights.requires_grad=True\n",
    "    model.fc2.weight=torch.nn.Parameter(updated_weights)\n",
    "        \n",
    "def update(d, model, optimizer):\n",
    "    optimizer = optim.Adam(model.parameters())\n",
    "    for btch in d:\n",
    "        model.send(btch[0].location)#sending to correct location\n",
    "        optimizer.zero_grad()\n",
    "        prediction = model(btch[0])\n",
    "        loss = F.nll_loss(prediction, btch[1])\n",
    "        loss.backward()\n",
    "        optimizer.step()\n",
    "        model.get()\n",
    "    \n",
    "    plot_weights(model)\n",
    "    return model\n",
    "\n",
    "def train(count):\n",
    "    data=(list(), list())\n",
    "    temp=[]\n",
    "    for data_index in range(count,20+count): #training with 20 batches per epoch\n",
    "        for worker_index in range(len(nodes)):\n",
    "            x, y = remote_dataset[worker_index][data_index]# 2 datasets (one w bob and other w alice)\n",
    "            temp.append(x)\n",
    "            temp.append(y)\n",
    "            data[worker_index].append(temp)\n",
    "            temp=[]\n",
    "            \n",
    "    models[0] = update(data[0], models[0], optimizers[0])#updating bob's model by training on 20 batches together\n",
    "    models[1] = update(data[1], models[1], optimizers[1])#updating alice's model by training on 20 batches together\n",
    "    \n",
    "    #print('Outside plot fn')\n",
    "    #print(models[0].fc2.weight)\n",
    "        \n",
    "    return utils.federated_avg({\n",
    "    \"bob\": models[0],\n",
    "    \"alice\": models[1]# securely aggregate both models and return global model after each epoch\n",
    "    })"
   ]
  },
  {
   "cell_type": "code",
   "execution_count": 299,
   "metadata": {},
   "outputs": [],
   "source": [
    "ytest=[]\n",
    "predicted=[]\n",
    "def test(federated_model):\n",
    "    federated_model.eval()\n",
    "    test_loss = 0\n",
    "    correct=0\n",
    "    \n",
    "    for x, y in test_loader:\n",
    "        output = federated_model(x)\n",
    "        test_loss += F.nll_loss(output, y, reduction='sum').item() # sum up batch loss\n",
    "        pred = output.argmax(1, keepdim=True) # get the index of the max log-probability \n",
    "        ytest.append((y.view_as(pred)).tolist())\n",
    "        predicted.append(pred.tolist())\n",
    "        #print('Len',len(y.view_as(pred)))\n",
    "        #print(y.view_as(pred))\n",
    "        #print('Len',len(pred))\n",
    "        #print(pred)\n",
    "        correct += pred.eq(y.view_as(pred)).sum().item()\n",
    "        #print(correct)\n",
    "        \n",
    "    test_loss /= len(test_loader.dataset)#this is total number of images in test data, whereas test_loader is z images grouped together depending on batch size,\n",
    "    #so if batch size is 10 then 10 x's and 10 corresponding y's will go together thus y vector is like that\n",
    "    print('\\nTest set: Average loss: {:.4f}, Accuracy: {}/{} ({:.0f}%)\\n'.format\n",
    "          (test_loss, correct, len(test_loader.dataset),100. * correct / len(test_loader.dataset)))\n",
    "    #print('Test set: Average loss: {:.4f}'.format(test_loss))\n",
    "\n",
    "        "
   ]
  },
  {
   "cell_type": "code",
   "execution_count": 300,
   "metadata": {},
   "outputs": [
    {
     "name": "stdout",
     "output_type": "stream",
     "text": [
      "Epoch Number 1\n",
      "Parameter containing:\n",
      "tensor([[ 0.0100,  0.0672, -0.0676,  ..., -0.0543, -0.0438,  0.0779],\n",
      "        [-0.0369,  0.0025,  0.0610,  ..., -0.0095,  0.0657,  0.0189],\n",
      "        [-0.0409, -0.0253, -0.0834,  ..., -0.0343,  0.0055,  0.0648],\n",
      "        ...,\n",
      "        [ 0.0373, -0.0783,  0.0859,  ..., -0.0386, -0.0890, -0.0235],\n",
      "        [ 0.0857,  0.0430, -0.0049,  ..., -0.0636,  0.0571, -0.0152],\n",
      "        [-0.0552, -0.0189,  0.0927,  ..., -0.0794,  0.0812,  0.0028]],\n",
      "       requires_grad=True)\n",
      "Average is :  0.00045239227223987656\n",
      "Parameter containing:\n",
      "tensor([[-0.0352,  0.0047,  0.0339,  ..., -0.0188, -0.0346,  0.0328],\n",
      "        [ 0.0693,  0.0593, -0.0257,  ...,  0.0654, -0.0008,  0.0438],\n",
      "        [-0.0437,  0.0048,  0.0441,  ...,  0.0534,  0.0587, -0.0700],\n",
      "        ...,\n",
      "        [-0.0503,  0.0155, -0.0375,  ...,  0.0321, -0.0921, -0.0645],\n",
      "        [-0.0106, -0.0003,  0.0532,  ..., -0.0790, -0.0004, -0.0242],\n",
      "        [-0.0611,  0.0463, -0.0805,  ..., -0.0619, -0.0747,  0.0392]],\n",
      "       requires_grad=True)\n",
      "Average is :  -0.0009906418166735875\n",
      "Outside plot fn\n",
      "Parameter containing:\n",
      "tensor([[ 0.0100,  0.0000,  0.0000,  ...,  0.0000, -0.0438,  0.0000],\n",
      "        [-0.0369,  0.0025,  0.0000,  ..., -0.0095,  0.0000,  0.0189],\n",
      "        [-0.0409, -0.0253,  0.0000,  ..., -0.0343,  0.0055,  0.0000],\n",
      "        ...,\n",
      "        [ 0.0373,  0.0000,  0.0000,  ..., -0.0386,  0.0000, -0.0235],\n",
      "        [ 0.0000,  0.0430, -0.0049,  ...,  0.0000,  0.0000, -0.0152],\n",
      "        [ 0.0000, -0.0189,  0.0000,  ...,  0.0000,  0.0000,  0.0028]],\n",
      "       requires_grad=True)\n",
      "Epoch Number 2\n",
      "Parameter containing:\n",
      "tensor([[-0.0182,  0.0107,  0.0122,  ..., -0.0094, -0.0489,  0.0236],\n",
      "        [-0.0127,  0.0055, -0.0081,  ..., -0.0048,  0.0168,  0.0152],\n",
      "        [-0.0379, -0.0096,  0.0173,  ..., -0.0171,  0.0129, -0.0051],\n",
      "        ...,\n",
      "        [-0.0121, -0.0043, -0.0235,  ..., -0.0032, -0.0146, -0.0224],\n",
      "        [-0.0120,  0.0153, -0.0072,  ...,  0.0000,  0.0092, -0.0277],\n",
      "        [-0.0066,  0.0124, -0.0048,  ...,  0.0000, -0.0049,  0.0146]],\n",
      "       requires_grad=True)\n",
      "Average is :  -0.0012309692267649553\n",
      "Parameter containing:\n",
      "tensor([[-0.0441,  0.0057,  0.0339,  ..., -0.0188, -0.0349,  0.0325],\n",
      "        [ 0.0123,  0.0073, -0.0257,  ...,  0.0000, -0.0019,  0.0280],\n",
      "        [-0.0526,  0.0053,  0.0441,  ...,  0.0000,  0.0118, -0.0132],\n",
      "        ...,\n",
      "        [-0.0572,  0.0041, -0.0375,  ...,  0.0321, -0.0153,  0.0008],\n",
      "        [-0.0123, -0.0047,  0.0000,  ...,  0.0000, -0.0036, -0.0386],\n",
      "        [-0.0093,  0.0382,  0.0000,  ...,  0.0000, -0.0150,  0.0370]],\n",
      "       requires_grad=True)\n",
      "Average is :  -0.0018266878882343463\n",
      "Outside plot fn\n",
      "Parameter containing:\n",
      "tensor([[-0.0182,  0.0107,  0.0122,  ..., -0.0094, -0.0489,  0.0236],\n",
      "        [-0.0127,  0.0055, -0.0081,  ..., -0.0048,  0.0168,  0.0152],\n",
      "        [-0.0379, -0.0096,  0.0173,  ..., -0.0171,  0.0129, -0.0051],\n",
      "        ...,\n",
      "        [-0.0121, -0.0043, -0.0235,  ..., -0.0032, -0.0146, -0.0224],\n",
      "        [-0.0120,  0.0153, -0.0072,  ...,  0.0000,  0.0092, -0.0277],\n",
      "        [-0.0066,  0.0124, -0.0048,  ...,  0.0000, -0.0049,  0.0146]],\n",
      "       requires_grad=True)\n",
      "Epoch Number 3\n",
      "Parameter containing:\n",
      "tensor([[-3.8139e-02,  1.0863e-02,  2.3008e-02,  ..., -1.4115e-02,\n",
      "         -4.9702e-02,  3.7432e-02],\n",
      "        [ 3.9731e-03,  4.6234e-03, -1.6911e-02,  ..., -2.3756e-03,\n",
      "          8.9316e-03,  1.1415e-02],\n",
      "        [-3.0271e-02,  4.6268e-05,  3.0678e-02,  ..., -8.5743e-03,\n",
      "          1.3371e-02, -1.9168e-02],\n",
      "        ...,\n",
      "        [-1.3815e-02, -1.0183e-02, -3.0481e-02,  ...,  1.4466e-02,\n",
      "         -3.1011e-02, -4.7740e-03],\n",
      "        [-9.5071e-03, -4.4183e-03, -3.6069e-03,  ...,  0.0000e+00,\n",
      "          4.1775e-03, -2.9038e-02],\n",
      "        [-1.3182e-02,  2.7320e-02, -2.3892e-03,  ...,  0.0000e+00,\n",
      "         -2.1311e-02,  2.2424e-02]], requires_grad=True)\n",
      "Average is :  -0.0026298697048332542\n",
      "Parameter containing:\n",
      "tensor([[-0.0497, -0.0035,  0.0339,  ..., -0.0188, -0.0463,  0.0324],\n",
      "        [ 0.0210,  0.0032, -0.0257,  ...,  0.0000, -0.0001,  0.0207],\n",
      "        [-0.0106,  0.0090,  0.0441,  ...,  0.0000,  0.0112, -0.0185],\n",
      "        ...,\n",
      "        [-0.0120, -0.0076, -0.0375,  ...,  0.0321, -0.0219,  0.0083],\n",
      "        [-0.0116, -0.0029,  0.0000,  ...,  0.0000,  0.0006, -0.0461],\n",
      "        [-0.0066,  0.0342,  0.0000,  ...,  0.0000, -0.0294,  0.0312]],\n",
      "       requires_grad=True)\n",
      "Average is :  -0.002537054845157627\n",
      "Outside plot fn\n",
      "Parameter containing:\n",
      "tensor([[-3.8139e-02,  1.0863e-02,  2.3008e-02,  ..., -1.4115e-02,\n",
      "         -4.9702e-02,  3.7432e-02],\n",
      "        [ 3.9731e-03,  4.6234e-03, -1.6911e-02,  ..., -2.3756e-03,\n",
      "          8.9316e-03,  1.1415e-02],\n",
      "        [-3.0271e-02,  4.6268e-05,  3.0678e-02,  ..., -8.5743e-03,\n",
      "          1.3371e-02, -1.9168e-02],\n",
      "        ...,\n",
      "        [-1.3815e-02, -1.0183e-02, -3.0481e-02,  ...,  1.4466e-02,\n",
      "         -3.1011e-02, -4.7740e-03],\n",
      "        [-9.5071e-03, -4.4183e-03, -3.6069e-03,  ...,  0.0000e+00,\n",
      "          4.1775e-03, -2.9038e-02],\n",
      "        [-1.3182e-02,  2.7320e-02, -2.3892e-03,  ...,  0.0000e+00,\n",
      "         -2.1311e-02,  2.2424e-02]], requires_grad=True)\n",
      "Epoch Number 4\n",
      "Parameter containing:\n",
      "tensor([[-0.0427,  0.0015,  0.0284,  ..., -0.0165, -0.0538,  0.0387],\n",
      "        [ 0.0217,  0.0058, -0.0213,  ..., -0.0012,  0.0099,  0.0062],\n",
      "        [-0.0290,  0.0106,  0.0374,  ..., -0.0043,  0.0079, -0.0210],\n",
      "        ...,\n",
      "        [-0.0174, -0.0085, -0.0340,  ...,  0.0233, -0.0409, -0.0026],\n",
      "        [-0.0092, -0.0066, -0.0018,  ...,  0.0000,  0.0102, -0.0496],\n",
      "        [-0.0149,  0.0328, -0.0012,  ...,  0.0000, -0.0373,  0.0166]],\n",
      "       requires_grad=True)\n",
      "Average is :  -0.0036670123456588044\n",
      "Parameter containing:\n",
      "tensor([[-0.0550, -0.0070,  0.0339,  ..., -0.0188, -0.0468,  0.0324],\n",
      "        [ 0.0288,  0.0030, -0.0257,  ...,  0.0000, -0.0082,  0.0207],\n",
      "        [-0.0125,  0.0069,  0.0441,  ...,  0.0000,  0.0154, -0.0185],\n",
      "        ...,\n",
      "        [-0.0174, -0.0150, -0.0375,  ...,  0.0321, -0.0365,  0.0083],\n",
      "        [-0.0153, -0.0076,  0.0000,  ...,  0.0000,  0.0070, -0.0461],\n",
      "        [-0.0157,  0.0418,  0.0000,  ...,  0.0000, -0.0365,  0.0312]],\n",
      "       requires_grad=True)\n",
      "Average is :  -0.0034449182668794265\n",
      "Outside plot fn\n",
      "Parameter containing:\n",
      "tensor([[-0.0427,  0.0015,  0.0284,  ..., -0.0165,  0.0000,  0.0387],\n",
      "        [ 0.0217,  0.0058, -0.0213,  ..., -0.0012,  0.0099,  0.0062],\n",
      "        [-0.0290,  0.0106,  0.0374,  ..., -0.0043,  0.0079, -0.0210],\n",
      "        ...,\n",
      "        [-0.0174, -0.0085, -0.0340,  ...,  0.0233, -0.0409, -0.0026],\n",
      "        [-0.0092, -0.0066, -0.0018,  ...,  0.0000,  0.0102, -0.0496],\n",
      "        [-0.0149,  0.0328, -0.0012,  ...,  0.0000, -0.0373,  0.0166]],\n",
      "       requires_grad=True)\n",
      "Epoch Number 5\n",
      "Parameter containing:\n",
      "tensor([[-0.0378,  0.0019,  0.0311,  ..., -0.0176, -0.0276,  0.0331],\n",
      "        [ 0.0225, -0.0012, -0.0235,  ..., -0.0006, -0.0076,  0.0032],\n",
      "        [-0.0287,  0.0011,  0.0407,  ..., -0.0021,  0.0130, -0.0256],\n",
      "        ...,\n",
      "        [-0.0189, -0.0104, -0.0357,  ...,  0.0277, -0.0538,  0.0019],\n",
      "        [-0.0133, -0.0207, -0.0009,  ...,  0.0000,  0.0141, -0.0521],\n",
      "        [-0.0160,  0.0393, -0.0006,  ...,  0.0000, -0.0401,  0.0273]],\n",
      "       requires_grad=True)\n",
      "Average is :  -0.004666817477408358\n",
      "Parameter containing:\n",
      "tensor([[-0.0101, -0.0145,  0.0339,  ..., -0.0188, -0.0454,  0.0330],\n",
      "        [ 0.0317, -0.0088, -0.0257,  ...,  0.0000, -0.0171,  0.0175],\n",
      "        [-0.0228,  0.0055,  0.0441,  ...,  0.0000,  0.0186, -0.0218],\n",
      "        ...,\n",
      "        [-0.0216, -0.0079, -0.0375,  ...,  0.0321, -0.0513,  0.0055],\n",
      "        [-0.0219, -0.0033,  0.0000,  ...,  0.0000,  0.0079, -0.0497],\n",
      "        [-0.0232,  0.0372,  0.0000,  ...,  0.0000, -0.0373,  0.0338]],\n",
      "       requires_grad=True)\n",
      "Average is :  -0.004162524269134593\n",
      "Outside plot fn\n",
      "Parameter containing:\n",
      "tensor([[-0.0378,  0.0019,  0.0311,  ..., -0.0176, -0.0276,  0.0331],\n",
      "        [ 0.0225, -0.0012, -0.0235,  ..., -0.0006, -0.0076,  0.0032],\n",
      "        [-0.0287,  0.0011,  0.0407,  ..., -0.0021,  0.0130, -0.0256],\n",
      "        ...,\n",
      "        [-0.0189, -0.0104, -0.0357,  ...,  0.0277, -0.0538,  0.0019],\n",
      "        [-0.0133, -0.0207, -0.0009,  ...,  0.0000,  0.0141, -0.0521],\n",
      "        [-0.0160,  0.0393, -0.0006,  ...,  0.0000, -0.0401,  0.0273]],\n",
      "       requires_grad=True)\n"
     ]
    },
    {
     "data": {
      "image/png": "[encoded data removed]",
      "text/plain": [
       "<Figure size 432x288 with 1 Axes>"
      ]
     },
     "metadata": {
      "needs_background": "light"
     },
     "output_type": "display_data"
    }
   ],
   "source": [
    "#training process\n",
    "i=0\n",
    "for epoch in range(args.epochs):\n",
    "    print(f\"Epoch Number {epoch + 1}\")\n",
    "    federated_model = train(i)\n",
    "    global_model = federated_model\n",
    "    #test(federated_model)#checking the test-performance of an updated gloabl model after each epoch \n",
    "    i+=20\n"
   ]
  },
  {
   "cell_type": "code",
   "execution_count": 293,
   "metadata": {},
   "outputs": [
    {
     "name": "stdout",
     "output_type": "stream",
     "text": [
      "\n",
      "Test set: Average loss: 0.2050, Accuracy: 9437/10000 (94%)\n",
      "\n"
     ]
    }
   ],
   "source": [
    "#test\n",
    "test(global_model)"
   ]
  },
  {
   "cell_type": "code",
   "execution_count": 294,
   "metadata": {},
   "outputs": [],
   "source": [
    "Ytest = [item for sublist in ytest for item in sublist]\n",
    "predicted_y = [item for sublist in predicted for item in sublist]\n",
    "\n",
    "#Ytest and predicted_y was still a list of list(with one element)\n",
    "Ytest = [item for sublist in Ytest for item in sublist]\n",
    "predicted_y = [item for sublist in predicted_y for item in sublist]\n",
    "#print(len(Ytest))\n",
    "#print(Ytest[90:100])\n",
    "#print(predicted_y[90:100])"
   ]
  },
  {
   "cell_type": "code",
   "execution_count": 295,
   "metadata": {},
   "outputs": [
    {
     "data": {
      "image/png": "[encoded data removed]",
      "text/plain": [
       "<Figure size 720x576 with 2 Axes>"
      ]
     },
     "metadata": {
      "needs_background": "light"
     },
     "output_type": "display_data"
    }
   ],
   "source": [
    "import seaborn as sb\n",
    "from sklearn.metrics import confusion_matrix\n",
    "import numpy as np\n",
    "\n",
    "classes=[]\n",
    "for i in range(10):\n",
    "  classes.append(i)\n",
    "\n",
    "conf=confusion_matrix(Ytest,predicted_y,classes,normalize='true')\n",
    "\n",
    "f = plt.figure(figsize=(10,8))\n",
    "ax=f.add_subplot(1,1,1)\n",
    "sb.heatmap(conf,annot=False, fmt=\".2f\", linewidths=.5,cmap='OrRd',square=True,ax=ax)\n",
    "tick_marks = np.arange(len(classes))\n",
    "plt.xticks(tick_marks, classes,rotation=1)\n",
    "plt.yticks(tick_marks, classes)\n",
    "\n",
    "ax.set_xlabel('Predicted label')\n",
    "ax.set_ylabel('Actual label')\n",
    "ax.set_title('Confusion Matrix ', size = 18);\n",
    "plt.tight_layout()\n",
    "plt.show()"
   ]
  }
 ],
 "metadata": {
  "kernelspec": {
   "display_name": "Python 3",
   "language": "python",
   "name": "python3"
  },
  "language_info": {
   "codemirror_mode": {
    "name": "ipython",
    "version": 3
   },
   "file_extension": ".py",
   "mimetype": "text/x-python",
   "name": "python",
   "nbconvert_exporter": "python",
   "pygments_lexer": "ipython3",
   "version": "3.7.4"
  }
 },
 "nbformat": 4,
 "nbformat_minor": 4
}
